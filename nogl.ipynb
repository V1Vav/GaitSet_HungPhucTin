{
 "cells": [
  {
   "cell_type": "code",
   "execution_count": 10,
   "id": "2c19a77c",
   "metadata": {},
   "outputs": [],
   "source": [
    "from model.network.gaitset_noglobal import SetNet\n",
    "import torch.optim as optim\n",
    "import torch.nn as nn\n",
    "import torch\n",
    "import os.path as osp\n",
    "import matplotlib.pyplot as plt\n",
    "from sklearn.manifold import TSNE\n",
    "from sklearn.decomposition import PCA\n",
    "import umap.umap_ as umap"
   ]
  },
  {
   "cell_type": "code",
   "execution_count": 11,
   "id": "55bd06cd",
   "metadata": {},
   "outputs": [
    {
     "data": {
      "text/plain": [
       "<All keys matched successfully>"
      ]
     },
     "execution_count": 11,
     "metadata": {},
     "output_type": "execute_result"
    }
   ],
   "source": [
    "encoder = SetNet(256)\n",
    "encoder = nn.DataParallel(encoder)\n",
    "encoder.cuda()\n",
    "\n",
    "model_name = 'GaitSet'\n",
    "encoder.load_state_dict(torch.load('C:/Users/TUF/Downloads/GaitSet_CASIA-B_73_False_256_0.2_128_full_30-10000-encoder.ptm'))"
   ]
  },
  {
   "cell_type": "code",
   "execution_count": 12,
   "id": "b9b617ce",
   "metadata": {},
   "outputs": [
    {
     "name": "stdout",
     "output_type": "stream",
     "text": [
      "Initializing data source...\n",
      "Loading test data...\n",
      "Data initialization complete.\n"
     ]
    }
   ],
   "source": [
    "encoder.eval()\n",
    "\n",
    "from model.initialization import initialize_data\n",
    "from config import conf\n",
    "\n",
    "train_source, test_source = initialize_data(conf, train = False, test = True)"
   ]
  },
  {
   "cell_type": "code",
   "execution_count": 13,
   "id": "6f80e556",
   "metadata": {},
   "outputs": [],
   "source": [
    "from copy import deepcopy\n",
    "import numpy as np\n",
    "\n",
    "# train_source, test_source = initialize_data(conf, train = False, test = False)\n",
    "data_config = conf['data']\n",
    "model_config = conf['model']\n",
    "model_param = deepcopy(model_config)\n",
    "model_param['train_source'] = None\n",
    "model_param['test_source'] = test_source\n",
    "model_param['train_pid_num'] = data_config['pid_num']\n",
    "batch_size = int(np.prod(model_config['batch_size']))\n",
    "model_param['save_name'] = '_'.join(map(str,[\n",
    "    model_config['model_name'],\n",
    "    data_config['dataset'],\n",
    "    data_config['pid_num'],\n",
    "    data_config['pid_shuffle'],\n",
    "    model_config['hidden_dim'],\n",
    "    model_config['margin'],\n",
    "    batch_size,\n",
    "    model_config['hard_or_full_trip'],\n",
    "    model_config['frame_num'],\n",
    "]))\n",
    "restore_iter = 108100"
   ]
  },
  {
   "cell_type": "code",
   "execution_count": 14,
   "id": "bd99c2ac",
   "metadata": {},
   "outputs": [],
   "source": [
    "import torch.utils.data as tordata\n",
    "from model.model import Model\n",
    "\n",
    "model = Model(**model_param)\n",
    "data_loader = tordata.DataLoader(\n",
    "            dataset=test_source,\n",
    "            batch_size=1,\n",
    "            sampler=tordata.sampler.SequentialSampler(test_source),\n",
    "            collate_fn=model.collate_fn,\n",
    "            num_workers=model.num_workers)"
   ]
  },
  {
   "cell_type": "code",
   "execution_count": 15,
   "id": "e3acd228",
   "metadata": {},
   "outputs": [],
   "source": [
    "feature_list = list()\n",
    "view_list = list()\n",
    "seq_type_list = list()\n",
    "label_list = list()\n",
    "for i, data in enumerate(data_loader):\n",
    "    seq, view, seq_type, label, batch_frame = data\n",
    "\n",
    "    seq[0] = model.np2var(seq[0])\n",
    "    batch_frame = model.np2var(batch_frame)\n",
    "\n",
    "    feature, _ = encoder(*seq, batch_frame)\n",
    "    feature_list.append(feature.view(1, -1).data.cpu().numpy())\n",
    "    view_list += view\n",
    "    seq_type_list += seq_type\n",
    "    label_list += label"
   ]
  },
  {
   "cell_type": "code",
   "execution_count": 16,
   "id": "d3353232",
   "metadata": {},
   "outputs": [],
   "source": [
    "data = np.concatenate(feature_list, 0), view_list, seq_type_list, label_list\n",
    "feature, view, seq_type, label = data\n",
    "label = np.array(label)\n",
    "view_list = list(set(view))\n",
    "view_list.sort()\n",
    "view_num = len(view_list)\n",
    "sample_num = len(feature)"
   ]
  },
  {
   "cell_type": "code",
   "execution_count": 17,
   "id": "f786c76e",
   "metadata": {},
   "outputs": [
    {
     "data": {
      "text/plain": [
       "(880, 7936)"
      ]
     },
     "execution_count": 17,
     "metadata": {},
     "output_type": "execute_result"
    }
   ],
   "source": [
    "feature.shape"
   ]
  },
  {
   "cell_type": "code",
   "execution_count": 18,
   "id": "f0e600b5",
   "metadata": {},
   "outputs": [],
   "source": [
    "def plot_feature(type, same_label=True, num=20):\n",
    "    # colors = plt.cm.tab20(np.linspace(0, 1, 20))\n",
    "    if not same_label:\n",
    "        colors = plt.cm.nipy_spectral(np.linspace(0, 1, num))\n",
    "    else:\n",
    "        colors = plt.cm.tab20(np.linspace(0, 1, 20))\n",
    "\n",
    "    tsne = TSNE(n_components=2, perplexity=30, random_state=42)\n",
    "    pca = PCA(n_components=2)\n",
    "    reducer = umap.UMAP(n_components=2, random_state=21)\n",
    "\n",
    "    if type == 'umap':\n",
    "        clusters = reducer.fit_transform(feature)\n",
    "    elif type == 'tsne':   \n",
    "        clusters = tsne.fit_transform(feature)\n",
    "    elif type == 'pca':\n",
    "        clusters = pca.fit_transform(feature)\n",
    "    else:\n",
    "        clusters = feature.reshape(-1, 256)\n",
    "    # Create one figure for all plots\n",
    "    plt.figure(figsize=(8, 8))\n",
    "\n",
    "    for i in range(880):\n",
    "        x = clusters[i, 0]\n",
    "        y = clusters[i, 1]\n",
    "\n",
    "        if not same_label:\n",
    "            plt.scatter(x, y, color=colors[i], s=10)\n",
    "        else:\n",
    "            plt.scatter(x, y, color=colors[int(label[i]) - 117], s=5)\n",
    "    plt.grid(True)\n",
    "    # plt.legend()\n",
    "    plt.show()"
   ]
  },
  {
   "cell_type": "code",
   "execution_count": 19,
   "id": "a9442162",
   "metadata": {},
   "outputs": [
    {
     "data": {
      "image/png": "[encoded data removed]",
      "text/plain": [
       "<Figure size 800x800 with 1 Axes>"
      ]
     },
     "metadata": {},
     "output_type": "display_data"
    }
   ],
   "source": [
    "plot_feature('tsne', same_label=True)"
   ]
  },
  {
   "cell_type": "code",
   "execution_count": 20,
   "id": "c5f62db0",
   "metadata": {},
   "outputs": [],
   "source": [
    "probe_seq_dict =  [['nm-05', 'nm-06'], ['bg-01', 'bg-02'], ['cl-01', 'cl-02']]\n",
    "gallery_seq_dict = [['nm-01', 'nm-02', 'nm-03', 'nm-04']]"
   ]
  },
  {
   "cell_type": "code",
   "execution_count": 21,
   "id": "e328b6f8",
   "metadata": {},
   "outputs": [],
   "source": [
    "def euclid_dist(a, b):\n",
    "    a2 = np.sum(a**2, axis=1, keepdims=True)\n",
    "    b2 = np.sum(b**2, axis=1, keepdims=True)\n",
    "    dist = a2 + b2.T - 2 * a @ b.T\n",
    "    dist = np.sqrt(np.maximum(0, dist))\n",
    "    return dist\n",
    "    "
   ]
  },
  {
   "cell_type": "code",
   "execution_count": 22,
   "id": "40c703c2",
   "metadata": {},
   "outputs": [],
   "source": [
    "acc = np.zeros([len(probe_seq_dict), view_num, view_num])\n",
    "for (p, probe_seq) in enumerate(probe_seq_dict):\n",
    "    for gallery_seq in gallery_seq_dict:\n",
    "        for (v1, probe_view) in enumerate(view_list):\n",
    "            for (v2, gallery_view) in enumerate(view_list):\n",
    "                gseq_mask = np.isin(view, gallery_view) & np.isin(seq_type, gallery_seq)\n",
    "                pseq_mask = np.isin(view, probe_view) & np.isin(seq_type, probe_seq)\n",
    "\n",
    "                gseq = feature[gseq_mask]  # 32, (62 x 256)\n",
    "                pseq = feature[pseq_mask]   # 16, (62 x 256)\n",
    "\n",
    "                dist = euclid_dist(pseq, gseq) # 16, 32\n",
    "                idx = np.argmin(dist, axis=1)  # 16\n",
    "\n",
    "                gseq_label = label[gseq_mask]  # 32,\n",
    "                pseq_label = label[pseq_mask]  # 16,\n",
    "                # print(idx)\n",
    "                # print(np.sum(gseq_label[idx] == pseq_label) * 100 / 16)\n",
    "                acc[p, v1, v2] = np.sum(gseq_label[idx] == pseq_label) * 100 / 16\n",
    "\n",
    "    #             break\n",
    "    #         break\n",
    "    #     break\n",
    "    # break\n",
    "    "
   ]
  },
  {
   "cell_type": "code",
   "execution_count": 23,
   "id": "e30d00f7",
   "metadata": {},
   "outputs": [
    {
     "name": "stdout",
     "output_type": "stream",
     "text": [
      "[[[100.   100.    87.5   87.5   87.5   87.5   87.5   87.5  100.   100.\n",
      "   100.  ]\n",
      "  [100.   100.   100.   100.    87.5  100.   100.   100.   100.   100.\n",
      "   100.  ]\n",
      "  [100.   100.   100.   100.   100.   100.   100.   100.   100.   100.\n",
      "   100.  ]\n",
      "  [100.   100.   100.   100.   100.   100.   100.   100.   100.   100.\n",
      "   100.  ]\n",
      "  [100.   100.   100.   100.   100.   100.   100.   100.   100.   100.\n",
      "   100.  ]\n",
      "  [ 93.75  93.75 100.   100.   100.   100.   100.   100.   100.   100.\n",
      "   100.  ]\n",
      "  [100.   100.   100.   100.   100.   100.   100.   100.   100.   100.\n",
      "   100.  ]\n",
      "  [100.   100.   100.   100.   100.   100.   100.   100.   100.   100.\n",
      "   100.  ]\n",
      "  [100.   100.   100.   100.   100.   100.   100.   100.   100.   100.\n",
      "   100.  ]\n",
      "  [100.   100.   100.   100.   100.   100.   100.   100.   100.   100.\n",
      "   100.  ]\n",
      "  [100.   100.   100.   100.    81.25  87.5  100.   100.   100.   100.\n",
      "   100.  ]]\n",
      "\n",
      " [[100.   100.   100.    87.5   87.5   87.5   87.5   87.5  100.   100.\n",
      "   100.  ]\n",
      "  [100.   100.   100.   100.    87.5   93.75 100.   100.   100.   100.\n",
      "    93.75]\n",
      "  [100.   100.   100.   100.   100.   100.   100.   100.   100.   100.\n",
      "   100.  ]\n",
      "  [100.   100.   100.   100.   100.   100.   100.   100.   100.   100.\n",
      "    93.75]\n",
      "  [ 93.75 100.   100.   100.   100.   100.   100.   100.   100.   100.\n",
      "   100.  ]\n",
      "  [ 81.25  87.5  100.   100.   100.   100.   100.   100.   100.    93.75\n",
      "    87.5 ]\n",
      "  [ 75.   100.   100.   100.   100.   100.   100.   100.   100.   100.\n",
      "    87.5 ]\n",
      "  [ 87.5   93.75 100.   100.   100.   100.   100.   100.   100.   100.\n",
      "   100.  ]\n",
      "  [100.   100.   100.   100.   100.   100.   100.   100.   100.   100.\n",
      "   100.  ]\n",
      "  [100.   100.   100.   100.    93.75 100.   100.   100.   100.   100.\n",
      "   100.  ]\n",
      "  [100.   100.   100.   100.    75.    81.25 100.   100.   100.   100.\n",
      "   100.  ]]\n",
      "\n",
      " [[100.   100.    93.75  81.25  81.25  75.    75.    87.5   87.5  100.\n",
      "   100.  ]\n",
      "  [ 87.5  100.   100.    87.5   87.5   87.5   87.5   87.5   87.5  100.\n",
      "    87.5 ]\n",
      "  [ 75.   100.   100.    87.5  100.   100.    93.75  87.5  100.   100.\n",
      "    87.5 ]\n",
      "  [ 87.5  100.   100.    93.75 100.   100.   100.    93.75 100.   100.\n",
      "    87.5 ]\n",
      "  [ 62.5   81.25  93.75  81.25 100.   100.    93.75  81.25  93.75  87.5\n",
      "    68.75]\n",
      "  [ 50.    62.5   87.5   81.25  93.75 100.    75.    75.    68.75  68.75\n",
      "    75.  ]\n",
      "  [ 75.    75.    93.75  87.5  100.   100.   100.    93.75  87.5   87.5\n",
      "    87.5 ]\n",
      "  [ 81.25  93.75 100.    93.75 100.   100.   100.   100.   100.    93.75\n",
      "    93.75]\n",
      "  [100.   100.   100.   100.   100.   100.   100.   100.   100.   100.\n",
      "   100.  ]\n",
      "  [100.   100.   100.    87.5   87.5   75.    75.    87.5  100.   100.\n",
      "   100.  ]\n",
      "  [ 87.5   87.5   81.25  75.    62.5   56.25  68.75  75.    75.    93.75\n",
      "   100.  ]]]\n"
     ]
    }
   ],
   "source": [
    "print(acc)"
   ]
  },
  {
   "cell_type": "code",
   "execution_count": 24,
   "id": "b79fdd70",
   "metadata": {},
   "outputs": [
    {
     "data": {
      "text/plain": [
       "95.55785123966942"
      ]
     },
     "execution_count": 24,
     "metadata": {},
     "output_type": "execute_result"
    }
   ],
   "source": [
    "np.sum(acc) / (len(probe_seq_dict) * view_num * view_num)"
   ]
  },
  {
   "cell_type": "code",
   "execution_count": null,
   "id": "39e6666e",
   "metadata": {},
   "outputs": [],
   "source": []
  }
 ],
 "metadata": {
  "kernelspec": {
   "display_name": "Python 3",
   "language": "python",
   "name": "python3"
  },
  "language_info": {
   "codemirror_mode": {
    "name": "ipython",
    "version": 3
   },
   "file_extension": ".py",
   "mimetype": "text/x-python",
   "name": "python",
   "nbconvert_exporter": "python",
   "pygments_lexer": "ipython3",
   "version": "3.11.2"
  }
 },
 "nbformat": 4,
 "nbformat_minor": 5
}
