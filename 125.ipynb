{
 "cells": [
  {
   "cell_type": "code",
   "execution_count": 1,
   "id": "6a79bf71",
   "metadata": {},
   "outputs": [
    {
     "name": "stderr",
     "output_type": "stream",
     "text": [
      "g:\\Softwares\\Python\\Lib\\site-packages\\tqdm\\auto.py:21: TqdmWarning: IProgress not found. Please update jupyter and ipywidgets. See https://ipywidgets.readthedocs.io/en/stable/user_install.html\n",
      "  from .autonotebook import tqdm as notebook_tqdm\n"
     ]
    }
   ],
   "source": [
    "from model.network.gaitset import SetNet\n",
    "import torch.optim as optim\n",
    "import torch.nn as nn\n",
    "import torch\n",
    "import os.path as osp\n",
    "import matplotlib.pyplot as plt\n",
    "from sklearn.manifold import TSNE\n",
    "from sklearn.decomposition import PCA\n",
    "import umap.umap_ as umap"
   ]
  },
  {
   "cell_type": "code",
   "execution_count": 2,
   "id": "a3708c04",
   "metadata": {},
   "outputs": [
    {
     "data": {
      "text/plain": [
       "<All keys matched successfully>"
      ]
     },
     "execution_count": 2,
     "metadata": {},
     "output_type": "execute_result"
    }
   ],
   "source": [
    "encoder = SetNet(256)\n",
    "encoder = nn.DataParallel(encoder)\n",
    "encoder.cuda()\n",
    "\n",
    "model_name = 'GaitSet'\n",
    "encoder.load_state_dict(torch.load('C:/Users/TUF/Documents/gait/GaitSet-master/work/checkpoint/GaitSet/GaitSet_CASIA-B_73_False_256_0.2_128_full_30-108100-encoder.ptm'))"
   ]
  },
  {
   "cell_type": "code",
   "execution_count": 3,
   "id": "db0890e4",
   "metadata": {},
   "outputs": [
    {
     "data": {
      "text/plain": [
       "DataParallel(\n",
       "  (module): SetNet(\n",
       "    (set_layer1): SetBlock(\n",
       "      (forward_block): BasicConv2d(\n",
       "        (conv): Conv2d(1, 32, kernel_size=(5, 5), stride=(1, 1), padding=(2, 2), bias=False)\n",
       "      )\n",
       "    )\n",
       "    (set_layer2): SetBlock(\n",
       "      (forward_block): BasicConv2d(\n",
       "        (conv): Conv2d(32, 32, kernel_size=(3, 3), stride=(1, 1), padding=(1, 1), bias=False)\n",
       "      )\n",
       "    )\n",
       "    (set_layer3): SetBlock(\n",
       "      (forward_block): BasicConv2d(\n",
       "        (conv): Conv2d(32, 64, kernel_size=(3, 3), stride=(1, 1), padding=(1, 1), bias=False)\n",
       "      )\n",
       "    )\n",
       "    (set_layer4): SetBlock(\n",
       "      (forward_block): BasicConv2d(\n",
       "        (conv): Conv2d(64, 64, kernel_size=(3, 3), stride=(1, 1), padding=(1, 1), bias=False)\n",
       "      )\n",
       "      (pool2d): MaxPool2d(kernel_size=2, stride=2, padding=0, dilation=1, ceil_mode=False)\n",
       "    )\n",
       "    (set_layer5): SetBlock(\n",
       "      (forward_block): BasicConv2d(\n",
       "        (conv): Conv2d(64, 128, kernel_size=(3, 3), stride=(1, 1), padding=(1, 1), bias=False)\n",
       "      )\n",
       "    )\n",
       "    (set_layer6): SetBlock(\n",
       "      (forward_block): BasicConv2d(\n",
       "        (conv): Conv2d(128, 128, kernel_size=(3, 3), stride=(1, 1), padding=(1, 1), bias=False)\n",
       "      )\n",
       "    )\n",
       "    (gl_layer1): BasicConv2d(\n",
       "      (conv): Conv2d(32, 64, kernel_size=(3, 3), stride=(1, 1), padding=(1, 1), bias=False)\n",
       "    )\n",
       "    (gl_layer2): BasicConv2d(\n",
       "      (conv): Conv2d(64, 64, kernel_size=(3, 3), stride=(1, 1), padding=(1, 1), bias=False)\n",
       "    )\n",
       "    (gl_layer3): BasicConv2d(\n",
       "      (conv): Conv2d(64, 128, kernel_size=(3, 3), stride=(1, 1), padding=(1, 1), bias=False)\n",
       "    )\n",
       "    (gl_layer4): BasicConv2d(\n",
       "      (conv): Conv2d(128, 128, kernel_size=(3, 3), stride=(1, 1), padding=(1, 1), bias=False)\n",
       "    )\n",
       "    (gl_pooling): MaxPool2d(kernel_size=2, stride=2, padding=0, dilation=1, ceil_mode=False)\n",
       "    (fc_bin): ParameterList(  (0): Parameter containing: [torch.float32 of size 62x128x256 (cuda:0)])\n",
       "  )\n",
       ")"
      ]
     },
     "execution_count": 3,
     "metadata": {},
     "output_type": "execute_result"
    }
   ],
   "source": [
    "encoder.eval()"
   ]
  },
  {
   "cell_type": "code",
   "execution_count": 4,
   "id": "308cd4f8",
   "metadata": {},
   "outputs": [
    {
     "name": "stdout",
     "output_type": "stream",
     "text": [
      "Initializing data source...\n",
      "Loading test data...\n",
      "Data initialization complete.\n"
     ]
    }
   ],
   "source": [
    "from model.initialization import initialize_data\n",
    "from config import conf\n",
    "\n",
    "train_source, test_source = initialize_data(conf, train = False, test = True)"
   ]
  },
  {
   "cell_type": "code",
   "execution_count": 5,
   "id": "8136a8c9",
   "metadata": {},
   "outputs": [],
   "source": [
    "from copy import deepcopy\n",
    "import numpy as np\n",
    "\n",
    "# train_source, test_source = initialize_data(conf, train = False, test = False)\n",
    "data_config = conf['data']\n",
    "model_config = conf['model']\n",
    "model_param = deepcopy(model_config)\n",
    "model_param['train_source'] = None\n",
    "model_param['test_source'] = test_source\n",
    "model_param['train_pid_num'] = data_config['pid_num']\n",
    "batch_size = int(np.prod(model_config['batch_size']))\n",
    "model_param['save_name'] = '_'.join(map(str,[\n",
    "    model_config['model_name'],\n",
    "    data_config['dataset'],\n",
    "    data_config['pid_num'],\n",
    "    data_config['pid_shuffle'],\n",
    "    model_config['hidden_dim'],\n",
    "    model_config['margin'],\n",
    "    batch_size,\n",
    "    model_config['hard_or_full_trip'],\n",
    "    model_config['frame_num'],\n",
    "]))\n",
    "restore_iter = 108100"
   ]
  },
  {
   "cell_type": "code",
   "execution_count": 6,
   "id": "79dfb93a",
   "metadata": {},
   "outputs": [],
   "source": [
    "import torch.utils.data as tordata\n",
    "from model.model import Model\n",
    "\n",
    "model = Model(**model_param)\n",
    "data_loader = tordata.DataLoader(\n",
    "            dataset=test_source,\n",
    "            batch_size=1,\n",
    "            sampler=tordata.sampler.SequentialSampler(test_source),\n",
    "            collate_fn=model.collate_fn,\n",
    "            num_workers=model.num_workers)"
   ]
  },
  {
   "cell_type": "code",
   "execution_count": 7,
   "id": "e229dacf",
   "metadata": {},
   "outputs": [],
   "source": [
    "feature_list = list()\n",
    "view_list = list()\n",
    "seq_type_list = list()\n",
    "label_list = list()\n",
    "for i, data in enumerate(data_loader):\n",
    "    seq, view, seq_type, label, batch_frame = data\n",
    "\n",
    "    seq[0] = model.np2var(seq[0])\n",
    "    batch_frame = model.np2var(batch_frame)\n",
    "\n",
    "    feature, _ = encoder(*seq, batch_frame)\n",
    "    feature_list.append(feature.view(1, -1).data.cpu().numpy())\n",
    "    view_list += view\n",
    "    seq_type_list += seq_type\n",
    "    label_list += label"
   ]
  },
  {
   "cell_type": "code",
   "execution_count": 8,
   "id": "ad8c6c25",
   "metadata": {},
   "outputs": [],
   "source": [
    "data = np.concatenate(feature_list, 0), view_list, seq_type_list, label_list\n",
    "feature, view, seq_type, label = data\n",
    "label = np.array(label)\n",
    "view_list = list(set(view))\n",
    "view_list.sort()\n",
    "view_num = len(view_list)\n",
    "sample_num = len(feature)"
   ]
  },
  {
   "cell_type": "code",
   "execution_count": 9,
   "id": "566be216",
   "metadata": {},
   "outputs": [],
   "source": [
    "from PIL import Image\n",
    "from torchvision import transforms\n",
    "import os\n",
    "\n",
    "transform = transforms.ToTensor()"
   ]
  },
  {
   "cell_type": "code",
   "execution_count": 11,
   "id": "d1a18f9a",
   "metadata": {},
   "outputs": [],
   "source": [
    "folder_path = 'data/125'\n",
    "seqs = os.listdir(folder_path)\n",
    "\n",
    "for seq in seqs:\n",
    "    seq_views = os.listdir(folder_path + '/' + str(seq))\n",
    "    for seq_view in seq_views:\n",
    "        img_array = []\n",
    "\n",
    "        for i in range(1, 31):\n",
    "            img_path = f'{folder_path}/{seq}/{seq_view}/125-{seq}-{seq_view}-{i:03d}.png'\n",
    "            img = Image.open(img_path).convert('L')\n",
    "            img = img.resize((44, 64))\n",
    "            img_array.append(img)\n",
    "        img_array = torch.stack([transform(img) for img in img_array]).cuda()\n",
    "        img_array = img_array.view(1, 30, 44, 64)\n",
    "\n",
    "        features_pack = encoder.module(img_array)\n",
    "        features_pack[0].view(-1).shape\n",
    "        feature = np.append(feature, (features_pack[0].view(1, -1).data.cpu().numpy()), axis=0)\n",
    "        seq_type = np.append(seq_type, [seq], axis=0)\n",
    "        view = np.append(view, [seq_view], axis=0)\n",
    "        label = np.append(label, [125], axis=0)\n",
    "        "
   ]
  },
  {
   "cell_type": "code",
   "execution_count": 12,
   "id": "5ae022c1",
   "metadata": {},
   "outputs": [
    {
     "data": {
      "text/plain": [
       "(895, 15872, 895, 895, 895)"
      ]
     },
     "execution_count": 12,
     "metadata": {},
     "output_type": "execute_result"
    }
   ],
   "source": [
    "len(feature), len(feature[0]), len(view), len(seq_type), len(label)"
   ]
  },
  {
   "cell_type": "code",
   "execution_count": 13,
   "id": "70202a5c",
   "metadata": {},
   "outputs": [],
   "source": [
    "def euclid_dist(a, b):\n",
    "    a2 = np.sum(a**2, axis=1, keepdims=True)\n",
    "    b2 = np.sum(b**2, axis=1, keepdims=True)\n",
    "    dist = a2 + b2.T - 2 * a @ b.T\n",
    "    dist = np.sqrt(np.maximum(0, dist))\n",
    "    return dist\n",
    "    "
   ]
  },
  {
   "cell_type": "code",
   "execution_count": 20,
   "id": "4e9839d4",
   "metadata": {},
   "outputs": [
    {
     "name": "stdout",
     "output_type": "stream",
     "text": [
      "Predict for bg-01 000 : ['125' '125' '125' '125' '125' '125' '125' '125' '125' '125']\n",
      "Predict for bg-01 090 : ['125' '125' '125' '125' '125' '125' '125' '125' '125' '125']\n",
      "Predict for bg-01 180 : ['125' '125' '125' '125' '125' '125' '125' '125' '125' '125']\n",
      "Predict for bg-02 054 : ['125' '125' '125' '125' '125' '125' '125' '125' '125' '125']\n",
      "Predict for bg-02 144 : ['125' '125' '125' '125' '125' '125' '125' '125' '125' '125']\n",
      "Predict for cl-01 000 : ['125' '125' '125' '125' '125' '125' '125' '125' '125' '125']\n",
      "Predict for cl-01 090 : ['125' '125' '125' '125' '125' '125' '125' '125' '125' '125']\n",
      "Predict for cl-01 180 : ['125' '125' '125' '125' '125' '125' '125' '125' '125' '125']\n",
      "Predict for cl-02 054 : ['125' '125' '125' '125' '125' '125' '125' '125' '125' '125']\n",
      "Predict for cl-02 144 : ['125' '125' '125' '125' '125' '125' '125' '125' '125' '125']\n",
      "Predict for nm-01 000 : ['125' '125' '125' '125' '125' '125' '125' '125' '125' '125']\n",
      "Predict for nm-01 180 : ['125' '125' '125' '125' '125' '125' '125' '125' '125' '125']\n",
      "Predict for nm-02 090 : ['125' '125' '125' '125' '125' '125' '125' '125' '125' '125']\n",
      "Predict for nm-03 054 : ['125' '125' '125' '125' '125' '125' '125' '125' '125' '125']\n",
      "Predict for nm-03 144 : ['125' '125' '125' '125' '125' '125' '125' '125' '125' '125']\n"
     ]
    }
   ],
   "source": [
    "for i in range(880, len(feature)):\n",
    "    data = np.reshape(feature[i], (1, -1))\n",
    "    dist = euclid_dist(feature, data)\n",
    "    predict = label[np.argsort(dist, axis=0)[1:11]] # Bỏ qua 0 vì là chính nó nên dist = 0\n",
    "    predict = np.reshape(predict, (-1))\n",
    "    print('Predict for', seq_type[i], view[i], ':', predict)"
   ]
  },
  {
   "cell_type": "code",
   "execution_count": null,
   "id": "d7ebd6d4",
   "metadata": {},
   "outputs": [],
   "source": []
  }
 ],
 "metadata": {
  "kernelspec": {
   "display_name": "Python 3",
   "language": "python",
   "name": "python3"
  },
  "language_info": {
   "codemirror_mode": {
    "name": "ipython",
    "version": 3
   },
   "file_extension": ".py",
   "mimetype": "text/x-python",
   "name": "python",
   "nbconvert_exporter": "python",
   "pygments_lexer": "ipython3",
   "version": "3.11.2"
  }
 },
 "nbformat": 4,
 "nbformat_minor": 5
}
